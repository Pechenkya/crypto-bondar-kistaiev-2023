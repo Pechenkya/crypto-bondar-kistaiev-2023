{
 "cells": [
  {
   "cell_type": "code",
   "execution_count": 107,
   "metadata": {},
   "outputs": [
    {
     "data": {
      "text/plain": [
       "0.055300129999999996"
      ]
     },
     "execution_count": 107,
     "metadata": {},
     "output_type": "execute_result"
    }
   ],
   "source": [
    "# Constants\n",
    "ALPH = \"абвгдежзийклмнопрстуфхцчшщъыьэюя\"\n",
    "PROBABILITIES = [0.0792, 0.0171, 0.0433, 0.0174, 0.0305, 0.0841, 0.0105, 0.0175,\n",
    "                 0.0683, 0.0112, 0.0336, 0.0500, 0.0326, 0.0672, 0.1108, 0.0281,\n",
    "                 0.0445, 0.0533, 0.0618, 0.0280, 0.0019, 0.0089, 0.0036, 0.0147,\n",
    "                 0.0081, 0.0037, 0.0002, 0.0196, 0.0192, 0.0038, 0.0061, 0.0213]\n",
    "ALPH_SIZE = len(ALPH)\n",
    "RING = {}\n",
    "for char in ALPH:\n",
    "    pos = ALPH.index(char)\n",
    "    RING[char] = pos\n",
    "EXPECTED_I = sum([(p ** 2) for p in PROBABILITIES])\n",
    "I0 = 1.0 / ALPH_SIZE\n",
    "FILE_NAME = \"text.txt\"\n",
    "\n",
    "EXPECTED_I"
   ]
  },
  {
   "cell_type": "code",
   "execution_count": 108,
   "metadata": {},
   "outputs": [],
   "source": [
    "def transform_symbol(_c):\n",
    "    if 'а' <= _c and _c <= 'я':\n",
    "        return _c\n",
    "    elif _c <= 'Я' and _c >= 'А':\n",
    "        return _c.lower()\n",
    "    elif _c == 'Ё' or _c == 'ё':\n",
    "        return 'е'\n",
    "    else:\n",
    "        return \"\"\n",
    "    \n",
    "def preprocess_text(_text):\n",
    "    text_formatted = \"\"\n",
    "    # Change symbols according to requirements\n",
    "    for c in _text:\n",
    "        text_formatted += transform_symbol(c)\n",
    "# Треба функція для додавання \n",
    "    # Remove consequtive spaces\n",
    "    text_formatted = ' '.join(text_formatted.split())\n",
    "    return text_formatted\n",
    "\n",
    "def read_text(filename):\n",
    "    f = open(filename, \"r\", encoding='utf-8')\n",
    "    text = f.read()\n",
    "    f.close()\n",
    "    return preprocess_text(text)"
   ]
  },
  {
   "cell_type": "code",
   "execution_count": 109,
   "metadata": {},
   "outputs": [],
   "source": [
    "def transform_symbol(_c):\n",
    "    if 'а' <= _c and _c <= 'я':\n",
    "        return _c\n",
    "    elif _c <= 'Я' and _c >= 'А':\n",
    "        return _c.lower()\n",
    "    elif _c == 'Ё' or _c == 'ё': \n",
    "        return 'е'\n",
    "    else:\n",
    "        return \"\"\n",
    "    \n",
    "def preprocess_text(_text):\n",
    "    text_formatted = \"\"\n",
    "    # Change symbols according to requirements\n",
    "    for c in _text:\n",
    "        text_formatted += transform_symbol(c)\n",
    "    # Remove consequtive spaces\n",
    "    text_formatted = ' '.join(text_formatted.split())\n",
    "    return text_formatted\n",
    "\n",
    "def read_text(filename):\n",
    "    f = open(filename, \"r\", encoding='utf-8')\n",
    "    text = f.read()\n",
    "    f.close()\n",
    "    return preprocess_text(text)"
   ]
  },
  {
   "cell_type": "code",
   "execution_count": 110,
   "metadata": {},
   "outputs": [],
   "source": [
    "def coincidence_index(text: list) -> int:\n",
    "    sum = 0\n",
    "    for c in ALPH:\n",
    "        occurances = text.count(c)\n",
    "        sum += occurances * (occurances - 1)\n",
    "    return sum / (len(text) * (len(text) - 1))\n",
    "\n",
    "def divide_into_blocks(text: list, r: int):\n",
    "    res = []\n",
    "    for i in range(r):\n",
    "        block = text[i::r] \n",
    "        res.append(block)\n",
    "    # print(res)\n",
    "    return res\n",
    "\n",
    "def coinc_idx_for_blocks(text: list, r: int):\n",
    "    idxs = []\n",
    "    blocks = divide_into_blocks(text, r)\n",
    "    for i in range(r):\n",
    "        idxs.append(coincidence_index(blocks[i]))\n",
    "    return idxs\n",
    "\n",
    "def summary_af_idx_for_diff_r(text: list):\n",
    "    idx_table = {}\n",
    "    # if we assume that len(KEY) divides len(text) -> itr through divisors\n",
    "    itr_range = range(2, int(len(text) / 2))     \n",
    "    for r in itr_range:\n",
    "        idx_table[r] = coinc_idx_for_blocks(text, r)\n",
    "    return idx_table"
   ]
  },
  {
   "cell_type": "code",
   "execution_count": 111,
   "metadata": {},
   "outputs": [],
   "source": [
    "import numpy.linalg as linalg\n",
    "# Instead of comparing average idx diff, we measure vector distance and compare\n",
    "def compare_idx_vectors(left: list, right: list) -> bool:\n",
    "    left_dist = linalg.norm([EXPECTED_I - idx for idx in left])\n",
    "    right_dist = linalg.norm([EXPECTED_I - idx for idx in right])\n",
    "    return left_dist <= right_dist\n",
    "\n",
    "def get_best_r(text: list):\n",
    "    best_r = 2\n",
    "    idx_map = summary_af_idx_for_diff_r(text)\n",
    "    for (r, idx) in idx_map.items():\n",
    "        if compare_idx_vectors(idx, idx_map[best_r]):\n",
    "            best_r = r\n",
    "            print(f\"{r}: {sum(idx) / len(idx)}\")\n",
    "        # if abs(EXPECTED_I - idx) <= abs(EXPECTED_I - idx_map[best_r]):\n",
    "        #     best_r = r\n",
    "        #     print(f\"{r}: {idx}\")\n",
    "    return best_r\n"
   ]
  },
  {
   "cell_type": "code",
   "execution_count": null,
   "metadata": {},
   "outputs": [],
   "source": [
    "# def crack_key(text, r) -> str:\n",
    "#     key = []\n",
    "#     blocks = divide_into_blocks(text, r)\n",
    "#     for i in range(0, r-1):\n",
    "#         ki = []\n",
    "#         for k in range(0, ALPH_SIZE-1):\n",
    "#              for c in ALPH:\n",
    "#                 occurances = text.count(c)\n",
    "#                 sum += occurances * (occurances - 1)\n"
   ]
  },
  {
   "cell_type": "code",
   "execution_count": 112,
   "metadata": {},
   "outputs": [
    {
     "name": "stdout",
     "output_type": "stream",
     "text": [
      "2: 0.03626820548217928\n",
      "14: 0.05528168514213951\n"
     ]
    },
    {
     "data": {
      "text/plain": [
       "14"
      ]
     },
     "execution_count": 112,
     "metadata": {},
     "output_type": "execute_result"
    }
   ],
   "source": [
    "text = read_text(FILE_NAME)\n",
    "get_best_r(text)\n",
    "# len(text)\n",
    "# [EXPECTED_I] * 10"
   ]
  }
 ],
 "metadata": {
  "kernelspec": {
   "display_name": "Python 3",
   "language": "python",
   "name": "python3"
  },
  "language_info": {
   "codemirror_mode": {
    "name": "ipython",
    "version": 3
   },
   "file_extension": ".py",
   "mimetype": "text/x-python",
   "name": "python",
   "nbconvert_exporter": "python",
   "pygments_lexer": "ipython3",
   "version": "3.9.13"
  },
  "orig_nbformat": 4
 },
 "nbformat": 4,
 "nbformat_minor": 2
}

{
 "cells": [
  {
   "cell_type": "code",
   "execution_count": 440,
   "metadata": {},
   "outputs": [],
   "source": [
    "# Constants\n",
    "ALPH = \"абвгдежзийклмнопрстуфхцчшщъыьэюя\"\n",
    "PROBS = [0.0792, 0.0171, 0.0433, 0.0174, 0.0305, 0.0841, 0.0105, 0.0175,\n",
    "         0.0683, 0.0112, 0.0336, 0.0500, 0.0326, 0.0672, 0.1108, 0.0281,\n",
    "         0.0445, 0.0533, 0.0618, 0.0280, 0.0019, 0.0089, 0.0036, 0.0147,\n",
    "         0.0081, 0.0037, 0.0002, 0.0196, 0.0192, 0.0038, 0.0061, 0.0213]\n",
    "ALPH_SIZE = len(ALPH)\n",
    "RING = {}\n",
    "for char in ALPH:\n",
    "    pos = ALPH.index(char)\n",
    "    RING[char] = pos\n",
    "EXPECTED_I = sum([(p ** 2) for p in PROBS])\n",
    "I0 = 1.0 / ALPH_SIZE\n",
    "FILE_NAME = \"text.txt\""
   ]
  },
  {
   "cell_type": "code",
   "execution_count": 441,
   "metadata": {},
   "outputs": [],
   "source": [
    "def transform_symbol(_c):\n",
    "    if 'а' <= _c and _c <= 'я':\n",
    "        return _c\n",
    "    elif _c <= 'Я' and _c >= 'А':\n",
    "        return _c.lower()\n",
    "    elif _c == 'Ё' or _c == 'ё':\n",
    "        return 'е'\n",
    "    else:\n",
    "        return \"\"\n",
    "    \n",
    "def preprocess_text(_text):\n",
    "    text_formatted = \"\"\n",
    "    # Change symbols according to requirements\n",
    "    for c in _text:\n",
    "        text_formatted += transform_symbol(c)\n",
    "# Треба функція для додавання \n",
    "    # Remove consequtive spaces\n",
    "    text_formatted = ' '.join(text_formatted.split())\n",
    "    return text_formatted\n",
    "\n",
    "def read_text(filename):\n",
    "    f = open(filename, \"r\", encoding='utf-8')\n",
    "    text = f.read()\n",
    "    f.close()\n",
    "    return preprocess_text(text)"
   ]
  },
  {
   "cell_type": "code",
   "execution_count": 442,
   "metadata": {},
   "outputs": [],
   "source": [
    "def transform_symbol(_c):\n",
    "    if 'а' <= _c and _c <= 'я':\n",
    "        return _c\n",
    "    elif _c <= 'Я' and _c >= 'А':\n",
    "        return _c.lower()\n",
    "    elif _c == 'Ё' or _c == 'ё': \n",
    "        return 'е'\n",
    "    else:\n",
    "        return \"\"\n",
    "    \n",
    "def preprocess_text(_text):\n",
    "    text_formatted = \"\"\n",
    "    # Change symbols according to requirements\n",
    "    for c in _text:\n",
    "        text_formatted += transform_symbol(c)\n",
    "    # Remove consequtive spaces\n",
    "    text_formatted = ' '.join(text_formatted.split())\n",
    "    return text_formatted\n",
    "\n",
    "def read_text(filename):\n",
    "    f = open(filename, \"r\", encoding='utf-8')\n",
    "    text = f.read()\n",
    "    f.close()\n",
    "    return preprocess_text(text)"
   ]
  },
  {
   "cell_type": "code",
   "execution_count": 443,
   "metadata": {},
   "outputs": [],
   "source": [
    "def coincidence_index(text: list) -> int:\n",
    "    sum = 0\n",
    "    for c in ALPH:\n",
    "        occurances = text.count(c)\n",
    "        sum += occurances * (occurances - 1)\n",
    "    return sum / (len(text) * (len(text) - 1))\n",
    "\n",
    "def divide_into_blocks(text: list, r: int):\n",
    "    res = []\n",
    "    for i in range(r):\n",
    "        block = text[i::r] \n",
    "        res.append(block)\n",
    "    # print(res)\n",
    "    return res\n",
    "\n",
    "def coinc_idx_for_blocks(text: list, r: int):\n",
    "    idxs = []\n",
    "    blocks = divide_into_blocks(text, r)\n",
    "    for i in range(r):\n",
    "        idxs.append(coincidence_index(blocks[i]))\n",
    "    return idxs\n",
    "\n",
    "def summary_af_idx_for_diff_r(text: list):\n",
    "    idx_table = {}\n",
    "    # if we assume that len(KEY) divides len(text) -> itr through divisors\n",
    "    # also we decided to make unified solution (check also if key length > 30)\n",
    "    itr_range = range(2, int(len(text) / 2))     \n",
    "    for r in itr_range:\n",
    "        idx_table[r] = coinc_idx_for_blocks(text, r)\n",
    "    return idx_table"
   ]
  },
  {
   "cell_type": "code",
   "execution_count": 444,
   "metadata": {},
   "outputs": [],
   "source": [
    "import numpy.linalg as linalg\n",
    "# Instead of comparing average idx diff, we measure vector distance and compare\n",
    "def compare_idx_vectors(left: list, right: list) -> bool:\n",
    "    left_dist = linalg.norm([EXPECTED_I - idx for idx in left])\n",
    "    right_dist = linalg.norm([EXPECTED_I - idx for idx in right])\n",
    "    return left_dist <= right_dist\n",
    "\n",
    "def get_best_r(text: list):\n",
    "    best_r = 2\n",
    "    idx_map = summary_af_idx_for_diff_r(text)\n",
    "    for (r, idx) in idx_map.items():\n",
    "        if compare_idx_vectors(idx, idx_map[best_r]):\n",
    "            best_r = r\n",
    "            print(f\"{r}: {sum(idx) / len(idx)}\")\n",
    "    return best_r\n"
   ]
  },
  {
   "attachments": {},
   "cell_type": "markdown",
   "metadata": {},
   "source": [
    "### Метод частот"
   ]
  },
  {
   "cell_type": "code",
   "execution_count": 445,
   "metadata": {},
   "outputs": [],
   "source": [
    "def crack_key_freq(text, r) -> str:\n",
    "    key = \"\"\n",
    "    blocks = divide_into_blocks(text, r)\n",
    "    for i in range(r):\n",
    "        y = RING[max(blocks[i], key = blocks[i].count)]\n",
    "        x = PROBS.index(max(PROBS))\n",
    "        k_i = (y - x) % ALPH_SIZE\n",
    "        key += ALPH[k_i]\n",
    "    return key"
   ]
  },
  {
   "cell_type": "code",
   "execution_count": 446,
   "metadata": {},
   "outputs": [],
   "source": [
    "def crack_key_freq_mod(text, r, found_pos=[], iteration=0, prev_key=\"\") -> str:\n",
    "    key = \"\"\n",
    "    blocks = divide_into_blocks(text, r)\n",
    "    for i in range(r):\n",
    "        if i not in found_pos:\n",
    "            y = RING[max(blocks[i], key = blocks[i].count)]\n",
    "            x = PROBS.index(sorted(PROBS)[-(iteration + 1)])\n",
    "            k_i = (y - x) % ALPH_SIZE\n",
    "            key += ALPH[k_i]\n",
    "        else:\n",
    "            key += prev_key[i]\n",
    "    return key"
   ]
  },
  {
   "attachments": {},
   "cell_type": "markdown",
   "metadata": {},
   "source": [
    "### Метод $M_i(g)$"
   ]
  },
  {
   "cell_type": "code",
   "execution_count": 447,
   "metadata": {},
   "outputs": [],
   "source": [
    "def crack_key_Mi(text, r) -> str:\n",
    "    key = \"\"\n",
    "    blocks = divide_into_blocks(text, r)\n",
    "    for i in range(r):\n",
    "        k_i = 0\n",
    "        M_max = 0\n",
    "        for g in range(ALPH_SIZE):\n",
    "            try_M = 0\n",
    "            for t in range(ALPH_SIZE):\n",
    "                try_M += PROBS[t] * blocks[i].count(ALPH[(t + g) % ALPH_SIZE])\n",
    "            if try_M > M_max:\n",
    "                M_max = try_M\n",
    "                k_i = g\n",
    "        key += ALPH[k_i]\n",
    "    return key\n"
   ]
  },
  {
   "cell_type": "code",
   "execution_count": 448,
   "metadata": {},
   "outputs": [],
   "source": [
    "def success_idxes(right_key, to_improve, r):\n",
    "    res = []\n",
    "    for i in range(r):\n",
    "        if right_key[i] == to_improve[i]:\n",
    "            res.append(i)\n",
    "    return res\n",
    "\n",
    "# This is to complete frequency method\n",
    "# Kind of simulation of checking artifacts in text manualy :)\n",
    "def crack_freq_iterable(text: str, r: int, expected_key: str):\n",
    "    key = crack_key_freq_mod(text, r)\n",
    "    for i in range(1, ALPH_SIZE):\n",
    "        print(f\"Freq key (itr {i - 1}): {key}\")\n",
    "        if key != expected_key:\n",
    "            found = success_idxes(expected_key, key, r)\n",
    "            key = crack_key_freq_mod(text, r, found_pos=found, iteration=i, prev_key=key)\n",
    "        else:\n",
    "            break\n",
    "    return key\n",
    "\n"
   ]
  },
  {
   "cell_type": "code",
   "execution_count": 449,
   "metadata": {},
   "outputs": [],
   "source": [
    "def decrypt_text(text, key):\n",
    "    res = \"\"\n",
    "    print(len(text))\n",
    "    r = len(key)\n",
    "    for i in range(0, len(text), r):\n",
    "        for j in range(r):\n",
    "            if i + j == len(text):\n",
    "                break\n",
    "            id = (RING[text[i + j]] - RING[key[j]]) % ALPH_SIZE\n",
    "            res += ALPH[id]\n",
    "\n",
    "    return res"
   ]
  },
  {
   "cell_type": "code",
   "execution_count": 450,
   "metadata": {},
   "outputs": [
    {
     "name": "stdout",
     "output_type": "stream",
     "text": [
      "2: 0.03709682620655367\n",
      "16: 0.05539766505382552\n",
      "Mi key: делолисоборотней\n",
      "Freq key (itr 0): декелисоборойдей\n",
      "Freq key (itr 1): деуолисоборотней\n",
      "Freq key (itr 2): дешолисоборотней\n",
      "Freq key (itr 3): деролисоборотней\n",
      "Freq key (itr 4): делолисоборотней\n",
      "Freq key result: делолисоборотней\n",
      "5614\n"
     ]
    },
    {
     "data": {
      "text/plain": [
       "'понятноеделокультурунасильновчеловеканевоткнешьвордусиэтудовольногрустнуюистинузналинаверноелучшечемгдебытонибыловмирекультурностьпреждевсегоусилиеиежелионосызмальстванесделалосьчеловекусвычнымдажевнутреннепотребнымоттоготомногочисленныеподразделенияпалатыцеремонийиуделяютстольковниманиядетямособеннодетямтехктонаселяетхутуныпотомужобычнаяленостьлюдскаяслужитемупочтинеодолимымпрепятствиемнанеобъятныхпросторахимпериивстречаетсяещенемалолюдейкоторымпокакимтолишьбуддазнаеткакимпричинамтакинесталоинтереснымничтоглавноенисветозарныевысотыдухавеликихрелигийивечныйпоисксмыслажизниземнойпитающийистинноеискусствониголовокружительныебезднынакраюкоихвечнопребываетнастилающаянаднимиобщепроходимыегатинауканихотябычистоепросторноесостоятельноеидобродетельноежитьестольестественноедлябольшинстваордусскихподданныхчтогрехатаитьхутунынаселеныбыливосновномварварамииневобычномпониманииэтогословаисстариобозначавшеголюдейинойнеордусскойкультурыаскореевтомегозначениикотороестольжедавносделалосьобычнымвевропелюдипочтичуждыевсякойкультурыневедающиеритуаловивозвышенныхзабототсутствиеподлиннойвоспитанностибросаетсяздесьвглазадаженевнимательномунаблюдателючеловексдорогимперстнемнапальцеодетыйвпрекрасныйшелковыйсузорочьемхалатможетнапримервприсутствииженщиныпроизнестибранноесловоиливысморкатьсяприлюднопрямовземлюпослечегоспокойнодостатьизрукавадорогойрасшитыйплатокиутеретьносежеличеловекповзрослелизаматерелвтакомсостояниидушиизменитьегокакправилоуженельзяразвечтомудроенебовразумиттакилииначесмотряповероисповеданиюземнымвластямвэтидуховныеобластипутьзаказаннасилиеневместноаувещеваниезапоздалокакимбыниуродилсяинисталчеловекнадодатьемупрожитьжизньтаккаконхочетконечноеслионпритомневредитокружающимпоэтомубагнеоченьлюбилрайонхутуновикакправилооказывалсяздесьлишьпослужебнойнадобностивоткаксегоднянесмотрянапротивныйнавевающийхандрудождикбагбылисполненлегкогопьянящегоазартавсегдасопутствовавшегоблизкомуиудачномузавершениюочередногоделакконцуподходилорасследованиеоцелойсетичетырезаведенияединовременноподпольныхопиумокуриленвыявленныхвразудаломпоселкецифрыманилипрасадвернулсявалександриювдохновленныйоткрывшимисяперспективамивразудаломпоселкеонужевладелнесколькимихарчевнямиилавкамииесликприбылямотторговлиспиртныминапиткамиудастсядобавитьещеидоходыотопиумокурениятоможнобудетподуматьорасширениипредпринимательстваоприобретенииновойнедвижимостиииншаллабытьможетдажеобустановленииконтролянадвсемихарчевнямиилавкамиразудалогопоселкаатамоченьскоровпринадлежащихлагашузаведенияхнемногочисленныеноверныеегослужителиоборудовалиспециальныезакутыгдекуслугамжителейигостейхутуноввыстроилисьудобныележанкиикурительныеприборыпрасадпредлагалпосетителямновоесредстворасслабитьтелоиочиститьдушупослетрудовыхбуднейпосетителизаинтересовалисьпотомвошливовкуснопрасадбылжаденвмечтахужвозомнивсебякняземразудалогоонзахотелмногоисразунанявсебевпомощьнесколькодюжихмолодцовпрасадзабылоглавномиустремилсякнизменномувзявшисьсилойвнедрятьопиумвхарчевниемунепринадлежавшиечембольшеохваченозаведенийтемвышеприбытоктаксправедливополагаллагашобращатьсяквэйбинамдлярешениявозникающихразногласийбылоневхарактереобитателейхутуновинечестныйпрасадбеззастенчивоэтимвоспользовалсяпопыткиздешнихжителейсовладатьслагашемсвоимисиламинеувенчалисьуспехомаспидзаранееподготовилсякстычкамиоттогооказалсясильнееокончательнораспоясавшисьонснялсостеныдвуствольноеружьедедаиприлюднопрямопосредипереулкаотпилилстволыпослечегосталходитьпохутунамсобрезомзапазухойидажепрозвищеполучилобрезагаместныежителирастерялисьопиумокурильнирасцвеливпоселкенесообразнопышнымцветомлагашподсчитывалбарышиновеликийучительвдвадцатьвторойглавебеседисужденийнезрясказалянезнаюниодногоправлениякотороебылобыбесконечнымисамовольноприсвоенныйпрасадомнебесныймандатместногозначенияужеуплылизегорукхотялагашещеинеподозревалобэтомвскоренесколькочеловекпотерялитрудоспособностьинтерескжизниисамоездоровьевследствиечрезмерногоупотребленияопиуманасонгрядущийавандевятыйпопалвбольницуулусноеведомствонародногоздоровьявсестороннеизучилопричинузаболеванияванаивскореобрезагасамтогоневедаяпопалвполезренияуправлениявнешнейохранызаседмицустараниямибагаивзятогоимвпомощьстаршеговэйбинаяковачжанабагссимпатиейнаблюдалкакэтотрозовощекийислегкаещеподетскинаивныймолодецпостепеннопревращаетсявсведущегоипытливогомастерасыскногоделарасположениевсехзаведенийгдекурилиопиумбылоопределеноснаивозможнойточностьютакжебылисоставленыподробныеспискивсехподданныхимевшихотношениекраспространениюопасногодляздоровьяпорокауправлениевнешнейохранысословочевидцевсоставилочленосборныйпортретчеловекакоторыйповсемвероятиямявлялсястаршимзаправилойитакчеловеконарушительбылизобличендесятьсамыхспособныхвэйбиновпереодевшисьвгражданскоеплатьезатроесутокнепрестанногослужебногобденияустановилигдеобрезагабываетпосвоимпротивуправнымделаминынчевечеромпристечениизначительныхсилуправленияодурманиваниеордусскихподданныхопиумомрешенобылопресечьпоусловленномусигналувэйбинынакрываютвсенехорошиезаведенияабагсяковомчжаномзадерживаютзаправилуиегоближниковкаксталоизвестновечерниечасыпослеобходасвоихвладенийивзиманияежедневнойнеправеднойданилагашсосвоимиближникамикороталвнесообразномвеселиивхарчевнекунисыновьябагещеразвзглянулначасыираздавилокуроквбронзовойпепельницепораонлегкоподнялсясместаимашинальнопотянулсяпоправитьзапоясоммечномечанебылонапривычномместеродовойклинокбагаканулвнебытиерастворенныйядовитойслюнойзлоумногоподданногокозюлькинаэтисобытияописанывделеополкуигоревеановыймечпрославленныйханбалыкскиймастерганьцзянмошуобещалотковатьлишьчерезполторагодабагвздохнулнезаметнопроверилскрытыеплотнымхалатомбоевыеножиподхватилзонтипошелквыходуиззалытудагдеседваслышнымшорохомсеялсясквозьгустеющиесумеркибесконечныйдождьпора'"
      ]
     },
     "execution_count": 450,
     "metadata": {},
     "output_type": "execute_result"
    }
   ],
   "source": [
    "text = read_text(FILE_NAME)\n",
    "r = get_best_r(text)\n",
    "keyMi = crack_key_Mi(text, r)\n",
    "print(f\"Mi key: {keyMi}\")\n",
    "key = crack_freq_iterable(text, r, keyMi)\n",
    "print(f\"Freq key result: {key}\")\n",
    "\n",
    "decrypt_text(text, keyMi)"
   ]
  }
 ],
 "metadata": {
  "kernelspec": {
   "display_name": "Python 3",
   "language": "python",
   "name": "python3"
  },
  "language_info": {
   "codemirror_mode": {
    "name": "ipython",
    "version": 3
   },
   "file_extension": ".py",
   "mimetype": "text/x-python",
   "name": "python",
   "nbconvert_exporter": "python",
   "pygments_lexer": "ipython3",
   "version": "3.9.13"
  },
  "orig_nbformat": 4
 },
 "nbformat": 4,
 "nbformat_minor": 2
}

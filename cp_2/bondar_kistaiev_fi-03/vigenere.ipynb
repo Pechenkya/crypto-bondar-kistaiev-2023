{
 "cells": [
  {
   "cell_type": "code",
   "execution_count": 84,
   "metadata": {},
   "outputs": [
    {
     "name": "stdout",
     "output_type": "stream",
     "text": [
      "а : 0.0792\n",
      "б : 0.0171\n",
      "в : 0.0433\n",
      "г : 0.0174\n",
      "д : 0.0305\n",
      "е : 0.0841\n",
      "ж : 0.0105\n",
      "з : 0.0175\n",
      "и : 0.0683\n",
      "й : 0.0112\n",
      "к : 0.0336\n",
      "л : 0.05\n",
      "м : 0.0326\n",
      "н : 0.0672\n",
      "о : 0.1108\n",
      "п : 0.0281\n",
      "р : 0.0445\n",
      "с : 0.0533\n",
      "т : 0.0618\n",
      "у : 0.028\n",
      "ф : 0.0019\n",
      "х : 0.0089\n",
      "ц : 0.0036\n",
      "ч : 0.0147\n",
      "ш : 0.0081\n",
      "щ : 0.0037\n",
      "ъ : 0.0002\n",
      "ы : 0.0196\n",
      "ь : 0.0192\n",
      "э : 0.0038\n",
      "ю : 0.0061\n",
      "я : 0.0213\n"
     ]
    },
    {
     "data": {
      "text/plain": [
       "1.0001000000000002"
      ]
     },
     "execution_count": 84,
     "metadata": {},
     "output_type": "execute_result"
    }
   ],
   "source": [
    "# Constants\n",
    "ALPH = \"абвгдежзийклмнопрстуфхцчшщъыьэюя\"\n",
    "PROBABILITIES = [0.0792, 0.0171, 0.0433, 0.0174, 0.0305, 0.0841, 0.0105, 0.0175,\n",
    "                 0.0683, 0.0112, 0.0336, 0.0500, 0.0326, 0.0672, 0.1108, 0.0281,\n",
    "                 0.0445, 0.0533, 0.0618, 0.0280, 0.0019, 0.0089, 0.0036, 0.0147,\n",
    "                 0.0081, 0.0037, 0.0002, 0.0196, 0.0192, 0.0038, 0.0061, 0.0213]\n",
    "ALPH_SIZE = len(ALPH)\n",
    "EXPECTED_I = sum([p**2 for p in PROBABILITIES])\n",
    "I0 = 1.0 / ALPH_SIZE\n",
    "FILE_NAME = \"text.txt\"\n",
    "\n",
    "for i in range(ALPH_SIZE):\n",
    "    print(f\"{ALPH[i]} : {PROBABILITIES[i]}\")\n",
    "\n",
    "sum(PROBABILITIES)"
   ]
  },
  {
   "cell_type": "code",
   "execution_count": 85,
   "metadata": {},
   "outputs": [],
   "source": [
    "def transform_symbol(_c):\n",
    "    if 'а' <= _c and _c <= 'я':\n",
    "        return _c\n",
    "    elif _c <= 'Я' and _c >= 'А':\n",
    "        return _c.lower()\n",
    "    elif _c == 'Ё' or _c == 'ё':\n",
    "        return 'е'\n",
    "    else:\n",
    "        return \"\"\n",
    "    \n",
    "def preprocess_text(_text):\n",
    "    text_formatted = \"\"\n",
    "    # Change symbols according to requirements\n",
    "    for c in _text:\n",
    "        text_formatted += transform_symbol(c)\n",
    "\n",
    "    # Remove consequtive spaces\n",
    "    text_formatted = ' '.join(text_formatted.split())\n",
    "    return text_formatted\n",
    "\n",
    "def read_text(filename):\n",
    "    f = open(filename, \"r\", encoding='utf-8')\n",
    "    text = f.read()\n",
    "    f.close()\n",
    "    return preprocess_text(text)"
   ]
  },
  {
   "cell_type": "code",
   "execution_count": 86,
   "metadata": {},
   "outputs": [],
   "source": [
    "def affinity_index(text: list) -> int:\n",
    "    sum = 0\n",
    "    for c in ALPH:\n",
    "        occurances = text.count(c)\n",
    "        sum += occurances * (occurances - 1)\n",
    "    return sum / (len(text) * (len(text) - 1))\n",
    "\n",
    "def divide_into_blocks(text: list, r: int):\n",
    "    res = []\n",
    "    for i in range(r):\n",
    "        block = text[i::r]\n",
    "        res.append(block)\n",
    "    # print(res)\n",
    "    return res\n",
    "\n",
    "# Small optimisation -> works for remotely small lenghts\n",
    "def find_periods(length: int):\n",
    "    periods = []\n",
    "    for d in range(2, length): # \n",
    "        if length % d == 0:\n",
    "            periods.append(d)\n",
    "    return periods\n",
    "\n",
    "def af_idx_for_blocks(text: list, r: int):\n",
    "    idxs = []\n",
    "    blocks = divide_into_blocks(text, r)\n",
    "    for i in range(r):\n",
    "        idxs.append(affinity_index(blocks[i]))\n",
    "    return idxs\n",
    "\n",
    "def summary_af_idx_for_diff_r(text: list):\n",
    "    idx_table = {}\n",
    "    periods = find_periods(len(text))\n",
    "    print(periods)\n",
    "    for r in periods:\n",
    "        idx_table[r] = sum(af_idx_for_blocks(text, r))\n",
    "    return idx_table"
   ]
  },
  {
   "cell_type": "code",
   "execution_count": 88,
   "metadata": {},
   "outputs": [
    {
     "name": "stdout",
     "output_type": "stream",
     "text": [
      "[2, 4, 8, 16, 32, 229, 458, 916, 1832, 3664]\n",
      "r = 2\n",
      "Expected: 0.11060025999999999\n",
      "Real:0.07253641096435856\n",
      "r = 4\n",
      "Expected: 0.22120051999999998\n",
      "Real:0.14547256253890423\n",
      "r = 8\n",
      "Expected: 0.44240103999999997\n",
      "Real:0.2913809148829551\n",
      "r = 16\n",
      "Expected: 0.8848020799999999\n",
      "Real:0.5819135619619122\n",
      "r = 32\n",
      "Expected: 1.7696041599999999\n",
      "Real:1.1681605761127711\n",
      "r = 229\n",
      "Expected: 12.66372977\n",
      "Real:7.872983870967742\n",
      "r = 458\n",
      "Expected: 25.32745954\n",
      "Real:16.366666666666692\n",
      "r = 916\n",
      "Expected: 50.65491908\n",
      "Real:30.607142857142843\n",
      "r = 1832\n",
      "Expected: 101.30983816\n",
      "Real:59.49999999999972\n",
      "r = 3664\n",
      "Expected: 202.61967632\n",
      "Real:129.0\n"
     ]
    }
   ],
   "source": [
    "for (k, v) in summary_af_idx_for_diff_r(read_text(FILE_NAME)).items():\n",
    "    print(f\"r = {k}\\nExpected: {EXPECTED_I * k}\\nReal:{v}\")"
   ]
  }
 ],
 "metadata": {
  "kernelspec": {
   "display_name": "Python 3",
   "language": "python",
   "name": "python3"
  },
  "language_info": {
   "codemirror_mode": {
    "name": "ipython",
    "version": 3
   },
   "file_extension": ".py",
   "mimetype": "text/x-python",
   "name": "python",
   "nbconvert_exporter": "python",
   "pygments_lexer": "ipython3",
   "version": "3.9.13"
  },
  "orig_nbformat": 4
 },
 "nbformat": 4,
 "nbformat_minor": 2
}

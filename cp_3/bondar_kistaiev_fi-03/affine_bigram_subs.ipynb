{
 "cells": [
  {
   "attachments": {},
   "cell_type": "markdown",
   "metadata": {},
   "source": [
    "# Лабораторна робота 3 з Симетричної Криптографії\n",
    "\n",
    "**Варіант:** 2\n",
    "\n",
    "**Команда:** Бондар, Кістаєв\n",
    "\n",
    "**Група:** ФІ-03"
   ]
  },
  {
   "attachments": {},
   "cell_type": "markdown",
   "metadata": {},
   "source": [
    "## Підготовча частина: оголошення констант, функція для зчитування і передобробки тексту"
   ]
  },
  {
   "cell_type": "code",
   "execution_count": 133,
   "metadata": {},
   "outputs": [],
   "source": [
    "# Constants\n",
    "A1 = \"абвгдежзийклмнопрстуфхцчшщыьэюя\"\n",
    "A2 = \"абвгдежзийклмнопрстуфхцчшщьыэюя\"\n",
    "ALPH = A2\n",
    "m = len(ALPH)\n",
    "M = m*m\n",
    "\n",
    "FIVE_MOST_FREQUENT = ['ст', 'но', 'то', 'на', 'ен']\n",
    "\n",
    "RING = {}\n",
    "BIGRAM_RING = {}\n",
    "BIGRAMS = ['aa'] * (M)\n",
    "\n",
    "# Precompute transformations\n",
    "for char in ALPH:\n",
    "    pos = ALPH.index(char)\n",
    "    RING[char] = pos\n",
    "\n",
    "for i in ALPH:\n",
    "    for j in ALPH:\n",
    "        pos_i = ALPH.index(i)\n",
    "        pos_j = ALPH.index(j)\n",
    "        idx = pos_i * m + pos_j\n",
    "        BIGRAM_RING[i+j] = idx\n",
    "        BIGRAMS[idx] = i+j\n",
    "\n",
    "PROBS = [0.0792, 0.0171, 0.0433, 0.0174, 0.0305, 0.0841, 0.0105, 0.0175,\n",
    "         0.0683, 0.0112, 0.0336, 0.0500, 0.0326, 0.0672, 0.1108, 0.0281,\n",
    "         0.0445, 0.0533, 0.0618, 0.0280, 0.0019, 0.0089, 0.0036, 0.0147,\n",
    "         0.0081, 0.0037, 0.0002, 0.0194, 0.0038, 0.0061, 0.0213]\n",
    "EXPECTED_I = sum([(p ** 2) for p in PROBS])\n",
    "\n",
    "TEST_TEXT = \"test_text.txt\"\n",
    "ENCRYPTED_TEXT = \"encrypted_text.txt\""
   ]
  },
  {
   "cell_type": "code",
   "execution_count": 134,
   "metadata": {},
   "outputs": [],
   "source": [
    "# Text preprocessing\n",
    "def transform_symbol(_c):\n",
    "    if 'а' <= _c and _c <= 'я':\n",
    "        return _c\n",
    "    elif _c <= 'Я' and _c >= 'А':\n",
    "        return _c.lower()\n",
    "    elif _c == 'Ё' or _c == 'ё':\n",
    "        return 'е'\n",
    "    else:\n",
    "        return \"\"\n",
    "    \n",
    "def preprocess_text(_text):\n",
    "    text_formatted = \"\"\n",
    "    # Change symbols according to requirements\n",
    "    for c in _text:\n",
    "        text_formatted += transform_symbol(c)\n",
    "    # Remove consequtive spaces\n",
    "    text_formatted = ' '.join(text_formatted.split())\n",
    "    return text_formatted\n",
    "\n",
    "def read_text(filename):\n",
    "    f = open(filename, \"r\", encoding='utf-8')\n",
    "    text = f.read()\n",
    "    f.close()\n",
    "    return preprocess_text(text)"
   ]
  },
  {
   "attachments": {},
   "cell_type": "markdown",
   "metadata": {},
   "source": [
    "## Додатковий функціонал для атаки: РАЕ, розв'язування лінійних порівнянь"
   ]
  },
  {
   "cell_type": "code",
   "execution_count": 135,
   "metadata": {},
   "outputs": [],
   "source": [
    "def extended_euclidian(a, b):\n",
    "    r_0, r_1 = a, b\n",
    "    u_0, u_1 = 1, 0 # coef at a\n",
    "    v_0, v_1 = 0, 1 # coef at b\n",
    "\n",
    "    # Parallel computation of remainders and coefs\n",
    "    while r_1 != 0:\n",
    "        q = r_0 // r_1\n",
    "        r_0, r_1 = r_1, r_0 - q * r_1   # same as r_1, r_0 % r_1\n",
    "        u_0, u_1 = u_1, u_0 - q * u_1\n",
    "        v_0, v_1 = v_1, v_0 - q * v_1\n",
    "\n",
    "    # print(f\"gcd({a}, {b}) = {r_0} = {u_0}*{a} + {v_0}*{b}\")\n",
    "    return (r_0, u_0, v_0)"
   ]
  },
  {
   "cell_type": "code",
   "execution_count": 136,
   "metadata": {},
   "outputs": [],
   "source": [
    "# ax = b (mod n) -> list of possible solutions\n",
    "def solve_linear_congruence(a, b, n):\n",
    "    a %= n\n",
    "    b %= n\n",
    "    # print(f\"{a}x = {b} (mod {n})\")\n",
    "    (d, a_coef, _) = extended_euclidian(a, n) # Check gcd(a, n)\n",
    "    if d == 1:\n",
    "        # then a^-1 = a_coef\n",
    "        return [(a_coef * b) % n]\n",
    "    elif b % d == 0:\n",
    "        a_1, b_1, n_1 = a // d, b // d, n // d\n",
    "        (_, a_1_inv, _) = extended_euclidian(a_1, n_1)\n",
    "        x_0 = (a_1_inv * b_1) % n_1\n",
    "        return [x_0 + k * n_1 for k in range(d)]\n",
    "    else:\n",
    "        return []"
   ]
  },
  {
   "attachments": {},
   "cell_type": "markdown",
   "metadata": {},
   "source": [
    "## Аналіз шифротексту: підрахунок біграм, знаходження n найчастіших біграм у тексті.\n",
    "При застосуванні алгоритму, використовуватимемо n = 5."
   ]
  },
  {
   "cell_type": "code",
   "execution_count": 137,
   "metadata": {},
   "outputs": [],
   "source": [
    "# Bigrams without intersection (ex: [1, 2], [3, 4])\n",
    "def count_bigrams_wo_i(_text):\n",
    "    b_count = {}\n",
    "    i = 1\n",
    "    while i < len(_text):\n",
    "        bg = _text[i - 1] + _text[i]\n",
    "        if bg not in b_count:\n",
    "            b_count[bg] = 1\n",
    "        else:\n",
    "            b_count[bg] = b_count[bg] + 1 \n",
    "        i = i + 2\n",
    "    # Sort by amount reversed\n",
    "    return dict(sorted(b_count.items(), key=lambda pair: -pair[1]))\n",
    "\n",
    "def get_best_n_bigrams(_text, n):\n",
    "    bigrams_count = count_bigrams_wo_i(_text)\n",
    "    return list(bigrams_count)[:n:]"
   ]
  },
  {
   "attachments": {},
   "cell_type": "markdown",
   "metadata": {},
   "source": [
    "## Отримання ключа, дешифрування тексту за допомогою цього ключа"
   ]
  },
  {
   "cell_type": "code",
   "execution_count": 138,
   "metadata": {},
   "outputs": [],
   "source": [
    "def get_keys(best_5):\n",
    "    keys = []\n",
    "    for i_1 in range(5):\n",
    "        for j_1 in range(5):\n",
    "            for i_2 in range(5):\n",
    "                for j_2 in range(5):\n",
    "                    if i_1 == i_2 or j_1 == j_2:\n",
    "                        continue\n",
    "                    \n",
    "                    X_1 = BIGRAM_RING[FIVE_MOST_FREQUENT[i_1]]\n",
    "                    Y_1 = BIGRAM_RING[best_5[j_1]]\n",
    "                    X_2 = BIGRAM_RING[FIVE_MOST_FREQUENT[i_2]]\n",
    "                    Y_2 = BIGRAM_RING[best_5[j_2]]\n",
    "\n",
    "                    A = solve_linear_congruence(X_1 - X_2, Y_1 - Y_2, M)\n",
    "                    keys += [(a, (Y_1 - a * X_1) % M) for a in A]\n",
    "    return keys"
   ]
  },
  {
   "cell_type": "code",
   "execution_count": 139,
   "metadata": {},
   "outputs": [],
   "source": [
    "def decrypt_bigram(encr, a_inv, b):\n",
    "    Y = BIGRAM_RING[encr]\n",
    "    return BIGRAMS[a_inv * (Y - b) % M]\n",
    "\n",
    "def try_decrypt_text(_text, key):\n",
    "    (a, b) = key\n",
    "    (d, a_inv, _) = extended_euclidian(a, M)\n",
    "    if d != 1:\n",
    "        return \"invalid key!\"\n",
    "    \n",
    "    res = \"\"\n",
    "    for i in range(1, len(_text), 2):\n",
    "        encr = _text[i - 1] + _text[i]\n",
    "        res += decrypt_bigram(encr, a_inv, b)\n",
    "    \n",
    "    return res"
   ]
  },
  {
   "attachments": {},
   "cell_type": "markdown",
   "metadata": {},
   "source": [
    "## Перевірка тексту на змістовність\n",
    "\n",
    "Ми скористались критеріями найчастіших та найрідших символів, а також критерієм індексу відповідності."
   ]
  },
  {
   "cell_type": "code",
   "execution_count": 140,
   "metadata": {},
   "outputs": [],
   "source": [
    "def count_chars(_text):\n",
    "    c_count = {}\n",
    "    for c in _text:\n",
    "        if c not in c_count:\n",
    "            c_count[c] = 1\n",
    "        else:\n",
    "            c_count[c] = c_count[c] + 1 \n",
    "\n",
    "    return list(sorted(c_count.items(), key=lambda pair: pair[1]))\n",
    "\n",
    "# Function to evaluate index of coincidence\n",
    "def coincidence_index(text):\n",
    "    sum = 0\n",
    "    for c in ALPH:\n",
    "        occurances = text.count(c)\n",
    "        sum += occurances * (occurances - 1)\n",
    "    return sum / (len(text) * (len(text) - 1))"
   ]
  },
  {
   "cell_type": "code",
   "execution_count": 141,
   "metadata": {},
   "outputs": [],
   "source": [
    "def rate_text(_text, complexity=5) -> int:\n",
    "    char_freqs = count_chars(_text)\n",
    "    k = 4\n",
    "    rating = 0.0\n",
    "\n",
    "    # Check top k freq\n",
    "    top_n_sym = [char_freqs[-i - 1][0] for i in range(k)]\n",
    "    if top_n_sym.count('о') != 0:\n",
    "        rating += 1\n",
    "    if top_n_sym.count('е') != 0:\n",
    "        rating += 1\n",
    "    if top_n_sym.count('а') != 0:\n",
    "        rating += 1\n",
    "    \n",
    "    if complexity <= 1:\n",
    "        return rating\n",
    "\n",
    "    # Check bot k freq\n",
    "    bot_n_sym = [char_freqs[i][0] for i in range(k)]\n",
    "    if bot_n_sym.count('ф') != 0:\n",
    "        rating += 1\n",
    "    if bot_n_sym.count('ц') != 0:\n",
    "        rating += 1\n",
    "    if bot_n_sym.count('щ') != 0:\n",
    "        rating += 1\n",
    "\n",
    "    if complexity <= 2:\n",
    "        return rating\n",
    "    \n",
    "    # Check index of coincidence\n",
    "    delta_idx = abs(coincidence_index(_text) - EXPECTED_I) * 200\n",
    "    rating -= delta_idx\n",
    "\n",
    "    if complexity <= 3:\n",
    "        return rating\n",
    "\n",
    "    return rating\n"
   ]
  },
  {
   "attachments": {},
   "cell_type": "markdown",
   "metadata": {},
   "source": [
    "## Побудова атаки\n",
    "\n",
    "Експериментальним шляхом ми з'ясували, що тестовий текст над алфавітом A1, а текст задачі над A2."
   ]
  },
  {
   "attachments": {},
   "cell_type": "markdown",
   "metadata": {},
   "source": [
    "#### Зчитуємо текст і знаходимо топ-5 біграм за частотою"
   ]
  },
  {
   "cell_type": "code",
   "execution_count": 142,
   "metadata": {},
   "outputs": [
    {
     "data": {
      "text/plain": [
       "['йа', 'юа', 'чш', 'юд', 'рщ']"
      ]
     },
     "execution_count": 142,
     "metadata": {},
     "output_type": "execute_result"
    }
   ],
   "source": [
    "text = read_text(ENCRYPTED_TEXT)\n",
    "best_5 = get_best_n_bigrams(text, 5)\n",
    "\n",
    "best_5"
   ]
  },
  {
   "attachments": {},
   "cell_type": "markdown",
   "metadata": {},
   "source": [
    "#### Маючи топ-5 біграм, знаходимо можливі ключі і сортуємо їх за оцінкою змістовності ВТ"
   ]
  },
  {
   "cell_type": "code",
   "execution_count": 143,
   "metadata": {},
   "outputs": [
    {
     "name": "stdout",
     "output_type": "stream",
     "text": [
      "Top 10 by rate:\n",
      "5.761652298790493 : (27, 211)\n",
      "3.204202418051068 : (895, 552)\n",
      "3.0969305455384237 : (554, 521)\n",
      "2.1501026298198402 : (926, 118)\n",
      "2.0375574927503606 : (244, 56)\n",
      "2.007691935769523 : (647, 180)\n",
      "1.965017554078102 : (151, 397)\n",
      "1.894984043621128 : (709, 273)\n",
      "1.861863385061997 : (399, 769)\n",
      "1.8282381857582308 : (895, 211)\n"
     ]
    }
   ],
   "source": [
    "# Get keys and remove duplicates\n",
    "keys = list(dict.fromkeys(get_keys(best_5)))\n",
    "keys_rated = []\n",
    "for key in keys:\n",
    "    open_text = try_decrypt_text(text, key)\n",
    "    if open_text == \"invalid key!\":\n",
    "        continue\n",
    "    keys_rated.append((key, rate_text(open_text)))\n",
    "sorted_by_rate = sorted(keys_rated, key=lambda entry: -entry[1])\n",
    "\n",
    "print(\"Top 10 by rate:\")\n",
    "for (key, rate) in sorted_by_rate[:10]:\n",
    "    print(f\"{rate} : {key}\")"
   ]
  },
  {
   "attachments": {},
   "cell_type": "markdown",
   "metadata": {},
   "source": [
    "#### Текст, отриманий при використанні найбільш ймовірного ключа"
   ]
  },
  {
   "cell_type": "code",
   "execution_count": 144,
   "metadata": {},
   "outputs": [
    {
     "data": {
      "text/plain": [
       "'однакоэтакартинаскакойбысторонымыеенирассматривалирасплываетсявнечтонеопределенноеприпадкипроявляющиесярезкосприкусываниемусиливающиесядоопасногодляжизниприводящегоктяжкомусамокалечениюмогутвсежевнекоторыхслучаяхнедостигатьтакойсилыослабляясьдократкихсостоянийабсансадобыстропроходящихголовокруженийимогуттакжесменятьсякраткимипериодамикогдабольнойсовершаетчуждыеегоприродепоступкикакбынаходясьвовластибессознательногообуславливаясьвобщемкакбыстранноэтониказалосьчистотелеснымипричинамиэтисостояниямогутпервоначальновозникатьпопричинамчистодушевнымиспугилимогутвдальнейшемнаходитьсявзависимостиотдушевныхволненийкакнихарактернодляогромногобольшинстваслучаевинтеллектуальноеснижениеноизвестенпокрайнеймереодинслучайкогдаэтотнедугненарушилвысшейинтеллектуальнойдеятельностигельмгольцдругиеслучаивотношениикоторыхутверждалосьтожесамоененадежныилиподлежатсомнениюкакислучайсамогодостоевскоголицастрадающиеэпилепсиеймогутпроизводитьвпечатлениетупостинедоразвитоститаккакэтаболезньчастосопряженасярковыраженнымидиотизмомикрупнейшимимозговымидефектаминеявляяськонечнообязательнойсоставнойчастьюкартиныболезниноэтиприпадкисовсемисвоимивидоизменениямибываютиудругихлицулицсполнымдушевнымразвитиемискореесосверхобычнаявбольшинствеслучаевнедостаточноуправляемойимиаффективностьюнеудивительночтопритакихобстоятельствахневозможноустановитьсовокупностьклиническоюаффектаэпилепсииточтопроявляетсяводнородностиуказанныхсимптомовтребуетповидимомуфункциональногопониманиякакеслибымеханизманормальноговысвобожденияпервичныхпозывовбылподготовленорганическимеханизмкоторыйиспользуетсяприналичиивесьмаразныхусловийкакпринарушениимозговойдеятельностипритяжкомзаболеваниитканейилитоксическомзаболеваниитакипринедостаточномконтроледушевнойэкономиикризисномфункционированиидушевнойэнергиизаэтимразделениемнадвавидамычувствуемндентичностьмеханизмалежащеговосновевысвобожденияпервичныхпозывовэтотмеханизмнедалекиотсексуальныхпроцессовпорождаемыхвсвоейосноветоксическиужедревнейшиеврачиназываликоитусмалойэпилепсиейивиделивполовомактесмягчениеиадаптациювысвобожденияэпилептическогоотводараздраженияэпилептическаяреакциякаковымименемможноназватьвсеэтовместевзятоенесомненнотакжепоступаетивраспоряжениеневрозасущностькотороговтомчтобыликвидироватьсоматическимассыраздраженияскоторыминеврознеможетсправитьсяпсихическиэпилептическийприпадокстановитсятакимобразомсимптомомистериииеюадаптируетсяивидоизменяетсяподобнотомукакэтопроисходитпринормальномтечениисексуальногопроцессатакимобразоммысполнымправомразличаеморганическуюиаффективнуюэпилепсиюпрактическоезначениеэтогоследующеестрадающийпервойпораженболезньюмозгастрадающийвторойневротиквпервомслучаедушевнаяжизньподверженанарушениюизвневовторомслучаенарушениеявляетсявыражениемсамойдушевнойжизнивесьмавероятночтоэпилепсиядостоевскогоотноситсяковторомувидуточнодоказатьэтонельзятаккаквтакомслучаенужнобылобывключитьвцелокупностьегодушевнойжизниначалоприпадковипоследующиевидоизмененияэтихприпадковадляэтогоунаснедостаточноданныхописаниясамихприпадковничегонедаютсведенияосоотношенияхмеждуприпадкамиипереживанияминеполныичастопротиворечивывсеговероятнеепредположениечтоприпадкиначалисьудостоевскогоужевдетствечтоонивначалехарактеризовалисьболееслабымисимптомамиитолькопослепотрясшегоегопереживаниянавосемнадцатомгодужизниубийстваотцапринялиформуэпилепсиибылобывесьмауместноеслибыоправдалосьточтоониполностьюпрекратилисьвовремяотбыванияимкаторгивсибириноэтомупротиворечатдругиеуказанияочевиднаясвязьмеждуотцеубийствомвбратьяхкарамазовыхисудьбойотцадостоевскогобросиласьвглазанеодномубиографудостоевскогоипослужилаимуказаниемнаизвестноесовременноепсихологическоенаправлениепсихоанализтаккакподразумеваетсяименноонсклоненвидетьвэтомсобытиитягчайшуютравмуивреакциидостоевскогонаэтоключевойпунктегоневрозаеслияначнуобосновыватьэтуустановкупсихоаналитическиопасаюсьчтоокажусьнепонятнымдлявсехтехкомунезнакомыучениеивыраженияпсихоанализаунасодиннадежныйисходныйпунктнамизвестенсмыслпервыхприпадковдостоевскоговегоюношескиегодызадолгодопоявленияэпилепсииуэтихприпадковбылоподобиесмертиониназывалисьстрахомсмертиивыражалисьвсостояниилетаргическогоснаэтаболезньнаходилананеговначалекогдаонбылещемальчикомкаквнезапнаябезотчетнаяподавленностьчувствокаконпозжерассказывалсвоемудругусоловьевутакоекакбудтобыемупредстоялосейчасжеумеретьивсамомделенаступалосостояниесовершенноподобноедействительнойсмертиегобратандрейрассказывалчтофедоружевмолодыегодыпередтемкакзаснутьоставлялзапискичтобоитсяночьюзаснутьсмертоподобнымсномипроситпоэтомучтобыегопохоронилитолькочерезпятьднейдостоевскийзарулеткойвведениеснамизвестнысмыслинамерениетакихприпадковсмертиониозначаютотождествлениесумершимчеловекомкоторыйдействительноумерилисчеловекомживымещенокоторомумыжелаемсмертивторойслучайболеезначителенприпадоквуказанномслучаеравноцененнаказаниюмыпожелалисмертидругомутеперьмысталисамиэтимдругимисамиумерлитутпсихоаналитическоеучениеутверждаетчтоэтотдругойдлямальчикаобычноотециименуемыйистериейприпадокявляетсятакимобразомсамонаказаниемзапожеланиесмертиненавистномуотцуа'"
      ]
     },
     "execution_count": 144,
     "metadata": {},
     "output_type": "execute_result"
    }
   ],
   "source": [
    "result_text = try_decrypt_text(text, sorted_by_rate[0][0])\n",
    "result_text"
   ]
  }
 ],
 "metadata": {
  "kernelspec": {
   "display_name": "Python 3",
   "language": "python",
   "name": "python3"
  },
  "language_info": {
   "codemirror_mode": {
    "name": "ipython",
    "version": 3
   },
   "file_extension": ".py",
   "mimetype": "text/x-python",
   "name": "python",
   "nbconvert_exporter": "python",
   "pygments_lexer": "ipython3",
   "version": "3.9.13"
  },
  "orig_nbformat": 4
 },
 "nbformat": 4,
 "nbformat_minor": 2
}

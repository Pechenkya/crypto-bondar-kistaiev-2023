{
 "cells": [
  {
   "attachments": {},
   "cell_type": "markdown",
   "metadata": {},
   "source": [
    "# Лабораторна робота 3 з Симетричної Криптографії\n",
    "\n",
    "**Варіант:** 2\n",
    "\n",
    "**Команда:** Бондар, Кістаєв\n",
    "\n",
    "**Група:** ФІ-03"
   ]
  },
  {
   "attachments": {},
   "cell_type": "markdown",
   "metadata": {},
   "source": [
    "## Підготовча частина: оголошення констант, функція для зчитування і передобробки тексту"
   ]
  },
  {
   "cell_type": "code",
   "execution_count": null,
   "metadata": {},
   "outputs": [],
   "source": [
    "# Constants\n",
    "A1 = \"абвгдежзийклмнопрстуфхцчшщыьэюя\"\n",
    "A2 = \"абвгдежзийклмнопрстуфхцчшщьыэюя\"\n",
    "ALPH = A1\n",
    "m = len(ALPH)\n",
    "M = m*m\n",
    "FIVE_MOST_FREQUENT = ['ст', 'но', 'то', 'на', 'ен']\n",
    "\n",
    "RING = {}\n",
    "BIGRAM_RING = {}\n",
    "BIGRAMS = ['aa'] * (M)\n",
    "\n",
    "# Precompute transformations\n",
    "for char in ALPH:\n",
    "    pos = ALPH.index(char)\n",
    "    RING[char] = pos\n",
    "\n",
    "for i in ALPH:\n",
    "    for j in ALPH:\n",
    "        pos_i = ALPH.index(i)\n",
    "        pos_j = ALPH.index(j)\n",
    "        idx = pos_i * m + pos_j\n",
    "        BIGRAM_RING[i+j] = idx\n",
    "        BIGRAMS[idx] = i+j\n",
    "\n",
    "TEST_TEXT = \"test_text.txt\"\n",
    "FILE_TO_ENCRYPT = \"text_to_encrypt.txt\"\n",
    "\n",
    "# print(BIGRAMS)\n",
    "# print(BIGRAM_RING)"
   ]
  },
  {
   "cell_type": "code",
   "execution_count": null,
   "metadata": {},
   "outputs": [],
   "source": [
    "# Text preprocessing\n",
    "def transform_symbol(_c):\n",
    "    if 'а' <= _c and _c <= 'я':\n",
    "        return _c\n",
    "    elif _c <= 'Я' and _c >= 'А':\n",
    "        return _c.lower()\n",
    "    elif _c == 'Ё' or _c == 'ё':\n",
    "        return 'е'\n",
    "    else:\n",
    "        return \"\"\n",
    "    \n",
    "def preprocess_text(_text):\n",
    "    text_formatted = \"\"\n",
    "    # Change symbols according to requirements\n",
    "    for c in _text:\n",
    "        text_formatted += transform_symbol(c)\n",
    "    # Remove consequtive spaces\n",
    "    text_formatted = ' '.join(text_formatted.split())\n",
    "    return text_formatted\n",
    "\n",
    "def read_text(filename):\n",
    "    f = open(filename, \"r\", encoding='utf-8')\n",
    "    text = f.read()\n",
    "    f.close()\n",
    "    return preprocess_text(text)"
   ]
  },
  {
   "attachments": {},
   "cell_type": "markdown",
   "metadata": {},
   "source": [
    "## Додатковий функціонал для атаки: РАЕ, розв'язування лінійних порівнянь"
   ]
  },
  {
   "cell_type": "code",
   "execution_count": null,
   "metadata": {},
   "outputs": [],
   "source": [
    "def extended_euclidian(a, b):\n",
    "    r_0, r_1 = a, b\n",
    "    u_0, u_1 = 1, 0 # coef at a\n",
    "    v_0, v_1 = 0, 1 # coef at b\n",
    "\n",
    "    # Parallel computation of remainders and coefs\n",
    "    while r_1 != 0:\n",
    "        q = r_0 // r_1\n",
    "        r_0, r_1 = r_1, r_0 - q * r_1   # same as r_1, r_0 % r_1\n",
    "        u_0, u_1 = u_1, u_0 - q * u_1\n",
    "        v_0, v_1 = v_1, v_0 - q * v_1\n",
    "\n",
    "    # print(f\"gcd({a}, {b}) = {r_0} = {u_0}*{a} + {v_0}*{b}\")\n",
    "    return (r_0, u_0, v_0)"
   ]
  },
  {
   "cell_type": "code",
   "execution_count": 230,
   "metadata": {},
   "outputs": [
    {
     "ename": "SyntaxError",
     "evalue": "'tuple' is an illegal expression for augmented assignment (3855590675.py, line 11)",
     "output_type": "error",
     "traceback": [
      "\u001b[1;36m  Cell \u001b[1;32mIn [230], line 11\u001b[1;36m\u001b[0m\n\u001b[1;33m    a_1, b_1, n_1 //= d\u001b[0m\n\u001b[1;37m    ^\u001b[0m\n\u001b[1;31mSyntaxError\u001b[0m\u001b[1;31m:\u001b[0m 'tuple' is an illegal expression for augmented assignment\n"
     ]
    }
   ],
   "source": [
    "# ax = b (mod n) -> list of possible solutions\n",
    "def solve_linear_congruence(a, b, n):\n",
    "    a %= n\n",
    "    b %= n\n",
    "    # print(f\"{a}x = {b} (mod {n})\")\n",
    "    (d, a_coef, _) = extended_euclidian(a, n) # Check gcd(a, n)\n",
    "    if d == 1:\n",
    "        # then a^-1 = a_coef\n",
    "        return [(a_coef * b) % n]\n",
    "    elif b % d == 0:\n",
    "        a_1, b_1, n_1 = a // d, b // d, n // d\n",
    "        (_, a_1_inv, _) = extended_euclidian(a_1, n_1)\n",
    "        x_0 = (a_1_inv * b_1) % n_1\n",
    "        return [x_0 + k * n_1 for k in range(d)]\n",
    "    else:\n",
    "        return []"
   ]
  },
  {
   "attachments": {},
   "cell_type": "markdown",
   "metadata": {},
   "source": [
    "## Аналіз шифротексту: підрахунок біграм, знаходження n найчастіших біграм у тексті.\n",
    "При застосуванні алгоритму, використовуватимемо n = 5."
   ]
  },
  {
   "cell_type": "code",
   "execution_count": null,
   "metadata": {},
   "outputs": [],
   "source": [
    "# Bigrams without intersection (ex: [1, 2], [3, 4])\n",
    "def count_bigrams_wo_i(_text):\n",
    "    b_count = {}\n",
    "    i = 1\n",
    "    while i < len(_text):\n",
    "        bg = _text[i - 1] + _text[i]\n",
    "        if bg not in b_count:\n",
    "            b_count[bg] = 1\n",
    "        else:\n",
    "            b_count[bg] = b_count[bg] + 1 \n",
    "        i = i + 2\n",
    "    # Sort by amount reversed\n",
    "    return dict(sorted(b_count.items(), key=lambda pair: -pair[1]))\n",
    "\n",
    "def get_best_n_bigrams(_text, n):\n",
    "    bigrams_count = count_bigrams_wo_i(_text)\n",
    "    return list(bigrams_count)[:n:]"
   ]
  },
  {
   "attachments": {},
   "cell_type": "markdown",
   "metadata": {},
   "source": [
    "## Отримання ключа, дешифрування тексту за допомогою цього ключа"
   ]
  },
  {
   "cell_type": "code",
   "execution_count": null,
   "metadata": {},
   "outputs": [],
   "source": [
    "def get_keys(best_5):\n",
    "    keys = []\n",
    "    for i_1 in range(5):\n",
    "        for j_1 in range(5):\n",
    "            for i_2 in range(5):\n",
    "                for j_2 in range(5):\n",
    "                    if i_1 == i_2 or j_1 == j_2:\n",
    "                        continue\n",
    "                    \n",
    "                    X_1 = BIGRAM_RING[FIVE_MOST_FREQUENT[i_1]]\n",
    "                    Y_1 = BIGRAM_RING[best_5[j_1]]\n",
    "                    X_2 = BIGRAM_RING[FIVE_MOST_FREQUENT[i_2]]\n",
    "                    Y_2 = BIGRAM_RING[best_5[j_2]]\n",
    "\n",
    "                    A = solve_linear_congruence(X_1 - X_2, Y_1 - Y_2, M)\n",
    "                    keys += [(a, (Y_1 - a * X_1) % M) for a in A]\n",
    "    return keys"
   ]
  },
  {
   "cell_type": "code",
   "execution_count": null,
   "metadata": {},
   "outputs": [],
   "source": [
    "def decrypt_bigram(encr, a_inv, b):\n",
    "    Y = BIGRAM_RING[encr]\n",
    "    return BIGRAMS[a_inv * (Y - b) % M]\n",
    "\n",
    "def try_decrypt_text(_text, key):\n",
    "    (a, b) = key\n",
    "    (d, a_inv, _) = extended_euclidian(a, M)\n",
    "    if d != 1:\n",
    "        return \"invalid key!\"\n",
    "    \n",
    "    res = \"\"\n",
    "    for i in range(1, len(_text), 2):\n",
    "        encr = _text[i - 1] + _text[i]\n",
    "        res += decrypt_bigram(encr, a_inv, b)\n",
    "    \n",
    "    return res"
   ]
  },
  {
   "attachments": {},
   "cell_type": "markdown",
   "metadata": {},
   "source": [
    "## Перевірка тексту на змістовність"
   ]
  },
  {
   "attachments": {},
   "cell_type": "markdown",
   "metadata": {},
   "source": [
    "## Побудова атаки"
   ]
  },
  {
   "cell_type": "code",
   "execution_count": null,
   "metadata": {},
   "outputs": [],
   "source": [
    "text = read_text(TEST_TEXT)\n",
    "best_5 = get_best_n_bigrams(text, 5)\n",
    "\n",
    "keys = get_keys(best_5)\n",
    "for key in keys:\n",
    "    open_text = try_decrypt_text(text, key)\n",
    "    if open_text == \"invalid key!\":\n",
    "        continue\n",
    "    print(f\"-------------------{key}-------------------\")\n",
    "    print(open_text)"
   ]
  }
 ],
 "metadata": {
  "kernelspec": {
   "display_name": "Python 3",
   "language": "python",
   "name": "python3"
  },
  "language_info": {
   "codemirror_mode": {
    "name": "ipython",
    "version": 3
   },
   "file_extension": ".py",
   "mimetype": "text/x-python",
   "name": "python",
   "nbconvert_exporter": "python",
   "pygments_lexer": "ipython3",
   "version": "3.9.13"
  },
  "orig_nbformat": 4
 },
 "nbformat": 4,
 "nbformat_minor": 2
}

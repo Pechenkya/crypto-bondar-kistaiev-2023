{
 "cells": [
  {
   "cell_type": "code",
   "execution_count": 1,
   "metadata": {},
   "outputs": [],
   "source": [
    "filename = \"girkin_crying.txt\""
   ]
  },
  {
   "attachments": {},
   "cell_type": "markdown",
   "metadata": {},
   "source": [
    "### Text reading and preprocessing"
   ]
  },
  {
   "cell_type": "code",
   "execution_count": 2,
   "metadata": {},
   "outputs": [],
   "source": [
    "def get_text(_filename):\n",
    "    f = open(_filename, \"r\", encoding='utf-8')\n",
    "    text = f.read()\n",
    "    f.close()\n",
    "    return text\n",
    "\n",
    "def transform_symbol(_c):\n",
    "    if 'а' <= _c and _c <= 'я':\n",
    "        return _c\n",
    "    elif _c <= 'Я' and _c >= 'А':\n",
    "        return _c.lower()\n",
    "    elif _c == 'Ё' or _c == 'ё':\n",
    "        return 'е'\n",
    "    else:\n",
    "        return ' '\n",
    "    \n",
    "def preprocess_text(_text):\n",
    "    _text = get_text(filename)\n",
    "    text_formatted = \"\"\n",
    "    # Change symbols according to requirements\n",
    "    for c in _text:\n",
    "        text_formatted += transform_symbol(c)\n",
    "\n",
    "    # Remove consequtive spaces\n",
    "    text_formatted = ' '.join(text_formatted.split())\n",
    "    return text_formatted"
   ]
  },
  {
   "cell_type": "code",
   "execution_count": 3,
   "metadata": {},
   "outputs": [],
   "source": [
    "text = preprocess_text(get_text(filename))"
   ]
  },
  {
   "attachments": {},
   "cell_type": "markdown",
   "metadata": {},
   "source": [
    "### Text processing (singular char count and bigram count)"
   ]
  },
  {
   "cell_type": "code",
   "execution_count": 4,
   "metadata": {},
   "outputs": [],
   "source": [
    "def count_chars(_text):\n",
    "    c_count = {}\n",
    "    for c in _text:\n",
    "        if c not in c_count:\n",
    "            c_count[c] = 1\n",
    "        else:\n",
    "            c_count[c] = c_count[c] + 1 \n",
    "\n",
    "    return dict(sorted(c_count.items()))\n",
    "\n",
    "# Bigrams with intersection (ex: [1, 2], [2, 3], [3, 4])\n",
    "def count_bigrams_w_i(_text):\n",
    "    b_count = {}\n",
    "    prev_char = _text[0]\n",
    "    for c in _text[1:]:\n",
    "        bg = prev_char + c\n",
    "        prev_char = c\n",
    "        if bg not in b_count:\n",
    "            b_count[bg] = 1\n",
    "        else:\n",
    "            b_count[bg] = b_count[bg] + 1 \n",
    "\n",
    "    return dict(sorted(b_count.items()))\n",
    "\n",
    "# Bigrams without intersection (ex: [1, 2], [3, 4])\n",
    "def count_bigrams_wo_i(_text):\n",
    "    b_count = {}\n",
    "    i = 1\n",
    "    while i < len(_text):\n",
    "        bg = _text[i - 1] + _text[i]\n",
    "        if bg not in b_count:\n",
    "            b_count[bg] = 1\n",
    "        else:\n",
    "            b_count[bg] = b_count[bg] + 1 \n",
    "        i = i + 2\n",
    "\n",
    "    return dict(sorted(b_count.items()))"
   ]
  },
  {
   "cell_type": "code",
   "execution_count": 5,
   "metadata": {},
   "outputs": [
    {
     "name": "stdout",
     "output_type": "stream",
     "text": [
      "{' ': 86793, 'а': 37904, 'б': 8174, 'в': 22994, 'г': 7676, 'д': 14226, 'е': 43426, 'ж': 4720, 'з': 7408, 'и': 37250, 'й': 6380, 'к': 16426, 'л': 18174, 'м': 15420, 'н': 36030, 'о': 56742, 'п': 15740, 'р': 24918, 'с': 26566, 'т': 31194, 'у': 12712, 'ф': 1612, 'х': 5356, 'ц': 2422, 'ч': 6828, 'ш': 3240, 'щ': 1846, 'ъ': 164, 'ы': 8952, 'ь': 7650, 'э': 1236, 'ю': 3406, 'я': 9048}\n"
     ]
    }
   ],
   "source": [
    "chars_freq_wspaces = count_chars(text)\n",
    "chars_freq_wospaces = chars_freq_wspaces.copy()\n",
    "del chars_freq_wospaces[' ']\n",
    "\n",
    "print(chars_freq_wspaces)\n",
    "\n",
    "bigrams_freq_w_intersect = count_bigrams_w_i(text)\n",
    "bigrams_freq_wo_intersect = count_bigrams_wo_i(text)"
   ]
  },
  {
   "attachments": {},
   "cell_type": "markdown",
   "metadata": {},
   "source": [
    "### Show symbol frequencies"
   ]
  },
  {
   "cell_type": "code",
   "execution_count": 6,
   "metadata": {},
   "outputs": [
    {
     "name": "stdout",
     "output_type": "stream",
     "text": [
      "  : 86793\n",
      "а : 37904\n",
      "б : 8174\n",
      "в : 22994\n",
      "г : 7676\n",
      "д : 14226\n",
      "е : 43426\n",
      "ж : 4720\n",
      "з : 7408\n",
      "и : 37250\n",
      "й : 6380\n",
      "к : 16426\n",
      "л : 18174\n",
      "м : 15420\n",
      "н : 36030\n",
      "о : 56742\n",
      "п : 15740\n",
      "р : 24918\n",
      "с : 26566\n",
      "т : 31194\n",
      "у : 12712\n",
      "ф : 1612\n",
      "х : 5356\n",
      "ц : 2422\n",
      "ч : 6828\n",
      "ш : 3240\n",
      "щ : 1846\n",
      "ъ : 164\n",
      "ы : 8952\n",
      "ь : 7650\n",
      "э : 1236\n",
      "ю : 3406\n",
      "я : 9048\n"
     ]
    }
   ],
   "source": [
    "for k, v in chars_freq_wspaces.items():\n",
    "    print(f\"{k} : {v}\")"
   ]
  },
  {
   "attachments": {},
   "cell_type": "markdown",
   "metadata": {},
   "source": [
    "### Calculate $H_1$ and $H_2$"
   ]
  },
  {
   "cell_type": "code",
   "execution_count": 7,
   "metadata": {},
   "outputs": [
    {
     "name": "stdout",
     "output_type": "stream",
     "text": [
      "H1 = 4.385129362944809\n",
      "H2 = 3.9881215496418245\n"
     ]
    }
   ],
   "source": [
    "import math\n",
    "\n",
    "char_amount = sum(chars_freq_wspaces.values())\n",
    "t1 = [chars_freq_wspaces[k] / char_amount for k in chars_freq_wspaces.keys()]\n",
    "H1 = -sum(a * math.log2(a) for a in t1)\n",
    "\n",
    "bg_amount = sum(bigrams_freq_w_intersect.values())\n",
    "t2 = [bigrams_freq_w_intersect[k] / bg_amount for k in bigrams_freq_w_intersect.keys()]\n",
    "H2 = -sum(a * math.log2(a) for a in t2) / 2\n",
    "print(f\"H1 = {H1}\")\n",
    "print(f\"H2 = {H2}\")"
   ]
  }
 ],
 "metadata": {
  "kernelspec": {
   "display_name": "Python 3",
   "language": "python",
   "name": "python3"
  },
  "language_info": {
   "codemirror_mode": {
    "name": "ipython",
    "version": 3
   },
   "file_extension": ".py",
   "mimetype": "text/x-python",
   "name": "python",
   "nbconvert_exporter": "python",
   "pygments_lexer": "ipython3",
   "version": "3.9.13"
  },
  "orig_nbformat": 4
 },
 "nbformat": 4,
 "nbformat_minor": 2
}
